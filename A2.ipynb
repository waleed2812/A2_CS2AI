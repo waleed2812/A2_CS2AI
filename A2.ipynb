{
 "cells": [
  {
   "cell_type": "markdown",
   "id": "joined-undergraduate",
   "metadata": {},
   "source": [
    "<h1 style='text-align: center'> COMSATS University, Islamabad </h1>\n",
    "<h1 style='text-align: center'> Department of Computer Science </h1>\n",
    "<h1 style='text-align: center'> CSC483 - Topics in Computer Science II (Programming for Artificial Intelligence) </h1>\n",
    "<h2 style='text-align: center'> Assignment 02 </h2>\n",
    "<h2 style='text-align: center'> Submitted by: Waleed Butt SP18-BCS-170 </h2>\n",
    "\n",
    "### Question CLO-3\n",
    "* Visit [MadhumithaKannan - linear-regression-using-only-numpy](https://github.com/MadhumithaKannan/linear-regression-using-only-numpy) and familiarize yourself with the data available in lin_reg_data.csv and the code of different regression schemes.  \n",
    "* Randomly divide 50% data as your training set and the remaining 50% as your test set.  \n",
    "* Using training set, your goal is to find the parameters of line using linear regression, ridge regression and lasso regression respectively. Plot all three lines overlaid with original training and test data in a single figure and use legends to label the three lines in the figure. Show training and test sets in two different colors in that figure.  \n",
    "* In order to see how the three lines fit the training and test set, calculate the sum of square residuals of the three lines with the training and test set respectively and display the 6 values in a tabulated form.\n",
    "\n",
    "### Submission Procedure:  \n",
    "* Please submit the binder or colab link to your respective CRs"
   ]
  },
  {
   "cell_type": "markdown",
   "id": "infinite-serbia",
   "metadata": {},
   "source": [
    "### Solution"
   ]
  },
  {
   "cell_type": "code",
   "execution_count": 1,
   "id": "grand-anger",
   "metadata": {},
   "outputs": [],
   "source": [
    "import numpy as np\n",
    "from matplotlib import pyplot as plt"
   ]
  }
 ],
 "metadata": {
  "kernelspec": {
   "display_name": "Python 3",
   "language": "python",
   "name": "python3"
  },
  "language_info": {
   "codemirror_mode": {
    "name": "ipython",
    "version": 3
   },
   "file_extension": ".py",
   "mimetype": "text/x-python",
   "name": "python",
   "nbconvert_exporter": "python",
   "pygments_lexer": "ipython3",
   "version": "3.8.8"
  }
 },
 "nbformat": 4,
 "nbformat_minor": 5
}
